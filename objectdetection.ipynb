{
 "cells": [
  {
   "cell_type": "code",
   "execution_count": 64,
   "metadata": {},
   "outputs": [],
   "source": [
    "from torch.utils.data import Dataset\n",
    "from PIL import Image\n",
    "import pandas as pd\n",
    "import geopandas as gpd\n",
    "from shapely.geometry import shape\n",
    "import ast\n",
    "import torch\n",
    "import os"
   ]
  },
  {
   "cell_type": "markdown",
   "metadata": {},
   "source": [
    "# Data Preprocessing"
   ]
  },
  {
   "cell_type": "code",
   "execution_count": 42,
   "metadata": {},
   "outputs": [],
   "source": [
    "annots = pd.read_csv('images/archive/annotations.csv')"
   ]
  },
  {
   "cell_type": "code",
   "execution_count": 43,
   "metadata": {},
   "outputs": [
    {
     "data": {
      "text/html": [
       "<div>\n",
       "<style scoped>\n",
       "    .dataframe tbody tr th:only-of-type {\n",
       "        vertical-align: middle;\n",
       "    }\n",
       "\n",
       "    .dataframe tbody tr th {\n",
       "        vertical-align: top;\n",
       "    }\n",
       "\n",
       "    .dataframe thead th {\n",
       "        text-align: right;\n",
       "    }\n",
       "</style>\n",
       "<table border=\"1\" class=\"dataframe\">\n",
       "  <thead>\n",
       "    <tr style=\"text-align: right;\">\n",
       "      <th></th>\n",
       "      <th>id</th>\n",
       "      <th>image_id</th>\n",
       "      <th>geometry</th>\n",
       "      <th>class</th>\n",
       "    </tr>\n",
       "  </thead>\n",
       "  <tbody>\n",
       "    <tr>\n",
       "      <th>0</th>\n",
       "      <td>1</td>\n",
       "      <td>4f833867-273e-4d73-8bc3-cb2d9ceb54ef.jpg</td>\n",
       "      <td>[(135, 522), (245, 522), (245, 600), (135, 600...</td>\n",
       "      <td>Airplane</td>\n",
       "    </tr>\n",
       "    <tr>\n",
       "      <th>1</th>\n",
       "      <td>2</td>\n",
       "      <td>4f833867-273e-4d73-8bc3-cb2d9ceb54ef.jpg</td>\n",
       "      <td>[(1025, 284), (1125, 284), (1125, 384), (1025,...</td>\n",
       "      <td>Airplane</td>\n",
       "    </tr>\n",
       "    <tr>\n",
       "      <th>2</th>\n",
       "      <td>3</td>\n",
       "      <td>4f833867-273e-4d73-8bc3-cb2d9ceb54ef.jpg</td>\n",
       "      <td>[(1058, 1503), (1130, 1503), (1130, 1568), (10...</td>\n",
       "      <td>Airplane</td>\n",
       "    </tr>\n",
       "    <tr>\n",
       "      <th>3</th>\n",
       "      <td>4</td>\n",
       "      <td>4f833867-273e-4d73-8bc3-cb2d9ceb54ef.jpg</td>\n",
       "      <td>[(813, 1518), (885, 1518), (885, 1604), (813, ...</td>\n",
       "      <td>Airplane</td>\n",
       "    </tr>\n",
       "    <tr>\n",
       "      <th>4</th>\n",
       "      <td>5</td>\n",
       "      <td>4f833867-273e-4d73-8bc3-cb2d9ceb54ef.jpg</td>\n",
       "      <td>[(594, 938), (657, 938), (657, 1012), (594, 10...</td>\n",
       "      <td>Airplane</td>\n",
       "    </tr>\n",
       "  </tbody>\n",
       "</table>\n",
       "</div>"
      ],
      "text/plain": [
       "   id                                  image_id  \\\n",
       "0   1  4f833867-273e-4d73-8bc3-cb2d9ceb54ef.jpg   \n",
       "1   2  4f833867-273e-4d73-8bc3-cb2d9ceb54ef.jpg   \n",
       "2   3  4f833867-273e-4d73-8bc3-cb2d9ceb54ef.jpg   \n",
       "3   4  4f833867-273e-4d73-8bc3-cb2d9ceb54ef.jpg   \n",
       "4   5  4f833867-273e-4d73-8bc3-cb2d9ceb54ef.jpg   \n",
       "\n",
       "                                            geometry     class  \n",
       "0  [(135, 522), (245, 522), (245, 600), (135, 600...  Airplane  \n",
       "1  [(1025, 284), (1125, 284), (1125, 384), (1025,...  Airplane  \n",
       "2  [(1058, 1503), (1130, 1503), (1130, 1568), (10...  Airplane  \n",
       "3  [(813, 1518), (885, 1518), (885, 1604), (813, ...  Airplane  \n",
       "4  [(594, 938), (657, 938), (657, 1012), (594, 10...  Airplane  "
      ]
     },
     "execution_count": 43,
     "metadata": {},
     "output_type": "execute_result"
    }
   ],
   "source": [
    "annots.head()"
   ]
  },
  {
   "cell_type": "code",
   "execution_count": 50,
   "metadata": {},
   "outputs": [],
   "source": [
    "def tuples_to_bbox(tuples):\n",
    "    x = [t[0] for t in tuples]\n",
    "    y = [t[1] for t in tuples]\n",
    "    return min(x), min(y), max(x), max(y)"
   ]
  },
  {
   "cell_type": "code",
   "execution_count": 47,
   "metadata": {},
   "outputs": [],
   "source": [
    "annots['geometry'] = annots['geometry'].apply(ast.literal_eval)"
   ]
  },
  {
   "cell_type": "code",
   "execution_count": 51,
   "metadata": {},
   "outputs": [],
   "source": [
    "annots['bbox'] = annots['geometry'].apply(tuples_to_bbox)"
   ]
  },
  {
   "cell_type": "code",
   "execution_count": 53,
   "metadata": {},
   "outputs": [
    {
     "data": {
      "text/html": [
       "<div>\n",
       "<style scoped>\n",
       "    .dataframe tbody tr th:only-of-type {\n",
       "        vertical-align: middle;\n",
       "    }\n",
       "\n",
       "    .dataframe tbody tr th {\n",
       "        vertical-align: top;\n",
       "    }\n",
       "\n",
       "    .dataframe thead th {\n",
       "        text-align: right;\n",
       "    }\n",
       "</style>\n",
       "<table border=\"1\" class=\"dataframe\">\n",
       "  <thead>\n",
       "    <tr style=\"text-align: right;\">\n",
       "      <th></th>\n",
       "      <th>id</th>\n",
       "      <th>image_id</th>\n",
       "      <th>geometry</th>\n",
       "      <th>class</th>\n",
       "      <th>bbox</th>\n",
       "    </tr>\n",
       "  </thead>\n",
       "  <tbody>\n",
       "    <tr>\n",
       "      <th>0</th>\n",
       "      <td>1</td>\n",
       "      <td>4f833867-273e-4d73-8bc3-cb2d9ceb54ef.jpg</td>\n",
       "      <td>[(135, 522), (245, 522), (245, 600), (135, 600...</td>\n",
       "      <td>Airplane</td>\n",
       "      <td>(135, 522, 245, 600)</td>\n",
       "    </tr>\n",
       "    <tr>\n",
       "      <th>1</th>\n",
       "      <td>2</td>\n",
       "      <td>4f833867-273e-4d73-8bc3-cb2d9ceb54ef.jpg</td>\n",
       "      <td>[(1025, 284), (1125, 284), (1125, 384), (1025,...</td>\n",
       "      <td>Airplane</td>\n",
       "      <td>(1025, 284, 1125, 384)</td>\n",
       "    </tr>\n",
       "    <tr>\n",
       "      <th>2</th>\n",
       "      <td>3</td>\n",
       "      <td>4f833867-273e-4d73-8bc3-cb2d9ceb54ef.jpg</td>\n",
       "      <td>[(1058, 1503), (1130, 1503), (1130, 1568), (10...</td>\n",
       "      <td>Airplane</td>\n",
       "      <td>(1058, 1503, 1130, 1568)</td>\n",
       "    </tr>\n",
       "    <tr>\n",
       "      <th>3</th>\n",
       "      <td>4</td>\n",
       "      <td>4f833867-273e-4d73-8bc3-cb2d9ceb54ef.jpg</td>\n",
       "      <td>[(813, 1518), (885, 1518), (885, 1604), (813, ...</td>\n",
       "      <td>Airplane</td>\n",
       "      <td>(813, 1518, 885, 1604)</td>\n",
       "    </tr>\n",
       "    <tr>\n",
       "      <th>4</th>\n",
       "      <td>5</td>\n",
       "      <td>4f833867-273e-4d73-8bc3-cb2d9ceb54ef.jpg</td>\n",
       "      <td>[(594, 938), (657, 938), (657, 1012), (594, 10...</td>\n",
       "      <td>Airplane</td>\n",
       "      <td>(594, 938, 657, 1012)</td>\n",
       "    </tr>\n",
       "  </tbody>\n",
       "</table>\n",
       "</div>"
      ],
      "text/plain": [
       "   id                                  image_id  \\\n",
       "0   1  4f833867-273e-4d73-8bc3-cb2d9ceb54ef.jpg   \n",
       "1   2  4f833867-273e-4d73-8bc3-cb2d9ceb54ef.jpg   \n",
       "2   3  4f833867-273e-4d73-8bc3-cb2d9ceb54ef.jpg   \n",
       "3   4  4f833867-273e-4d73-8bc3-cb2d9ceb54ef.jpg   \n",
       "4   5  4f833867-273e-4d73-8bc3-cb2d9ceb54ef.jpg   \n",
       "\n",
       "                                            geometry     class  \\\n",
       "0  [(135, 522), (245, 522), (245, 600), (135, 600...  Airplane   \n",
       "1  [(1025, 284), (1125, 284), (1125, 384), (1025,...  Airplane   \n",
       "2  [(1058, 1503), (1130, 1503), (1130, 1568), (10...  Airplane   \n",
       "3  [(813, 1518), (885, 1518), (885, 1604), (813, ...  Airplane   \n",
       "4  [(594, 938), (657, 938), (657, 1012), (594, 10...  Airplane   \n",
       "\n",
       "                       bbox  \n",
       "0      (135, 522, 245, 600)  \n",
       "1    (1025, 284, 1125, 384)  \n",
       "2  (1058, 1503, 1130, 1568)  \n",
       "3    (813, 1518, 885, 1604)  \n",
       "4     (594, 938, 657, 1012)  "
      ]
     },
     "execution_count": 53,
     "metadata": {},
     "output_type": "execute_result"
    }
   ],
   "source": [
    "annots.head()"
   ]
  },
  {
   "cell_type": "code",
   "execution_count": 72,
   "metadata": {},
   "outputs": [
    {
     "data": {
      "text/plain": [
       "array(['Airplane', 'Truncated_airplane'], dtype=object)"
      ]
     },
     "execution_count": 72,
     "metadata": {},
     "output_type": "execute_result"
    }
   ],
   "source": [
    "annots['class'].unique()"
   ]
  },
  {
   "cell_type": "code",
   "execution_count": 75,
   "metadata": {},
   "outputs": [],
   "source": [
    "#encode class to either 0 or 1\n",
    "annots['class'] = annots['class'].apply(lambda x: 0 if x == 'Airplane' else 1)"
   ]
  },
  {
   "cell_type": "code",
   "execution_count": 76,
   "metadata": {},
   "outputs": [
    {
     "data": {
      "text/html": [
       "<div>\n",
       "<style scoped>\n",
       "    .dataframe tbody tr th:only-of-type {\n",
       "        vertical-align: middle;\n",
       "    }\n",
       "\n",
       "    .dataframe tbody tr th {\n",
       "        vertical-align: top;\n",
       "    }\n",
       "\n",
       "    .dataframe thead th {\n",
       "        text-align: right;\n",
       "    }\n",
       "</style>\n",
       "<table border=\"1\" class=\"dataframe\">\n",
       "  <thead>\n",
       "    <tr style=\"text-align: right;\">\n",
       "      <th></th>\n",
       "      <th>id</th>\n",
       "      <th>image_id</th>\n",
       "      <th>geometry</th>\n",
       "      <th>class</th>\n",
       "      <th>bbox</th>\n",
       "    </tr>\n",
       "  </thead>\n",
       "  <tbody>\n",
       "    <tr>\n",
       "      <th>0</th>\n",
       "      <td>1</td>\n",
       "      <td>4f833867-273e-4d73-8bc3-cb2d9ceb54ef.jpg</td>\n",
       "      <td>[(135, 522), (245, 522), (245, 600), (135, 600...</td>\n",
       "      <td>0</td>\n",
       "      <td>(135, 522, 245, 600)</td>\n",
       "    </tr>\n",
       "    <tr>\n",
       "      <th>1</th>\n",
       "      <td>2</td>\n",
       "      <td>4f833867-273e-4d73-8bc3-cb2d9ceb54ef.jpg</td>\n",
       "      <td>[(1025, 284), (1125, 284), (1125, 384), (1025,...</td>\n",
       "      <td>0</td>\n",
       "      <td>(1025, 284, 1125, 384)</td>\n",
       "    </tr>\n",
       "    <tr>\n",
       "      <th>2</th>\n",
       "      <td>3</td>\n",
       "      <td>4f833867-273e-4d73-8bc3-cb2d9ceb54ef.jpg</td>\n",
       "      <td>[(1058, 1503), (1130, 1503), (1130, 1568), (10...</td>\n",
       "      <td>0</td>\n",
       "      <td>(1058, 1503, 1130, 1568)</td>\n",
       "    </tr>\n",
       "    <tr>\n",
       "      <th>3</th>\n",
       "      <td>4</td>\n",
       "      <td>4f833867-273e-4d73-8bc3-cb2d9ceb54ef.jpg</td>\n",
       "      <td>[(813, 1518), (885, 1518), (885, 1604), (813, ...</td>\n",
       "      <td>0</td>\n",
       "      <td>(813, 1518, 885, 1604)</td>\n",
       "    </tr>\n",
       "    <tr>\n",
       "      <th>4</th>\n",
       "      <td>5</td>\n",
       "      <td>4f833867-273e-4d73-8bc3-cb2d9ceb54ef.jpg</td>\n",
       "      <td>[(594, 938), (657, 938), (657, 1012), (594, 10...</td>\n",
       "      <td>0</td>\n",
       "      <td>(594, 938, 657, 1012)</td>\n",
       "    </tr>\n",
       "  </tbody>\n",
       "</table>\n",
       "</div>"
      ],
      "text/plain": [
       "   id                                  image_id  \\\n",
       "0   1  4f833867-273e-4d73-8bc3-cb2d9ceb54ef.jpg   \n",
       "1   2  4f833867-273e-4d73-8bc3-cb2d9ceb54ef.jpg   \n",
       "2   3  4f833867-273e-4d73-8bc3-cb2d9ceb54ef.jpg   \n",
       "3   4  4f833867-273e-4d73-8bc3-cb2d9ceb54ef.jpg   \n",
       "4   5  4f833867-273e-4d73-8bc3-cb2d9ceb54ef.jpg   \n",
       "\n",
       "                                            geometry  class  \\\n",
       "0  [(135, 522), (245, 522), (245, 600), (135, 600...      0   \n",
       "1  [(1025, 284), (1125, 284), (1125, 384), (1025,...      0   \n",
       "2  [(1058, 1503), (1130, 1503), (1130, 1568), (10...      0   \n",
       "3  [(813, 1518), (885, 1518), (885, 1604), (813, ...      0   \n",
       "4  [(594, 938), (657, 938), (657, 1012), (594, 10...      0   \n",
       "\n",
       "                       bbox  \n",
       "0      (135, 522, 245, 600)  \n",
       "1    (1025, 284, 1125, 384)  \n",
       "2  (1058, 1503, 1130, 1568)  \n",
       "3    (813, 1518, 885, 1604)  \n",
       "4     (594, 938, 657, 1012)  "
      ]
     },
     "execution_count": 76,
     "metadata": {},
     "output_type": "execute_result"
    }
   ],
   "source": [
    "annots.head()"
   ]
  },
  {
   "cell_type": "markdown",
   "metadata": {},
   "source": [
    "# Initializing dataset"
   ]
  },
  {
   "cell_type": "code",
   "execution_count": 85,
   "metadata": {},
   "outputs": [],
   "source": [
    "class AircraftDetectionDataset(Dataset):\n",
    "    def __init__(self, dataframe, root_dir, transform=None):\n",
    "        \"\"\"\n",
    "        Args:\n",
    "            dataframe (pandas.DataFrame): DataFrame containing annotations.\n",
    "            root_dir (string): Directory with all the images.\n",
    "            transform (callable, optional): Optional transform to be applied on a sample.\n",
    "        \"\"\"\n",
    "        self.dataframe = dataframe\n",
    "        self.root_dir = root_dir\n",
    "        self.transform = transform\n",
    "\n",
    "    def __len__(self):\n",
    "        return len(self.dataframe)\n",
    "\n",
    "    def __getitem__(self, idx):\n",
    "        if torch.is_tensor(idx):\n",
    "            idx = idx.tolist()\n",
    "\n",
    "        img_name = os.path.join(self.root_dir, self.dataframe.iloc[idx]['image_id'])\n",
    "        image = Image.open(img_name).convert(\"RGB\")\n",
    "\n",
    "        bbox = self.dataframe.iloc[idx]['bbox']\n",
    "        if isinstance(bbox, str):\n",
    "            bbox = eval(bbox)\n",
    "\n",
    "        bbox_tensor = torch.tensor(bbox, dtype=torch.float32)\n",
    "        class_label = self.dataframe.iloc[idx]['class']\n",
    "        class_label_tensor = torch.tensor([class_label], dtype=torch.int64)\n",
    "\n",
    "        target = {}\n",
    "        target[\"boxes\"] = bbox_tensor.unsqueeze(0)\n",
    "        target[\"labels\"] = class_label_tensor\n",
    "\n",
    "        if self.transform:\n",
    "            image = self.transform(image)  # Ensure this transforms the PIL Image to a tensor.\n",
    "\n",
    "        return image, target\n"
   ]
  },
  {
   "cell_type": "code",
   "execution_count": 93,
   "metadata": {},
   "outputs": [],
   "source": [
    "dataset = AircraftDetectionDataset(annots, 'images/img', transform=transform)"
   ]
  },
  {
   "cell_type": "code",
   "execution_count": 94,
   "metadata": {},
   "outputs": [
    {
     "data": {
      "text/plain": [
       "(tensor([[[0.7216, 0.7255, 0.7294,  ..., 0.6824, 0.6941, 0.6902],\n",
       "          [0.7216, 0.7255, 0.7412,  ..., 0.7059, 0.7098, 0.7059],\n",
       "          [0.7255, 0.7333, 0.7451,  ..., 0.7216, 0.7216, 0.7216],\n",
       "          ...,\n",
       "          [0.7647, 0.7647, 0.7686,  ..., 0.7608, 0.7647, 0.7725],\n",
       "          [0.7569, 0.7529, 0.7569,  ..., 0.7137, 0.7176, 0.7255],\n",
       "          [0.7608, 0.7608, 0.7647,  ..., 0.7294, 0.7333, 0.7412]],\n",
       " \n",
       "         [[0.6902, 0.6941, 0.6980,  ..., 0.6471, 0.6588, 0.6510],\n",
       "          [0.6902, 0.6941, 0.7098,  ..., 0.6588, 0.6667, 0.6667],\n",
       "          [0.6941, 0.7020, 0.7176,  ..., 0.6706, 0.6706, 0.6667],\n",
       "          ...,\n",
       "          [0.7490, 0.7490, 0.7529,  ..., 0.7451, 0.7451, 0.7451],\n",
       "          [0.7412, 0.7412, 0.7451,  ..., 0.6980, 0.6980, 0.6941],\n",
       "          [0.7451, 0.7490, 0.7529,  ..., 0.7098, 0.7137, 0.7098]],\n",
       " \n",
       "         [[0.6471, 0.6510, 0.6549,  ..., 0.6039, 0.6118, 0.6039],\n",
       "          [0.6471, 0.6510, 0.6667,  ..., 0.6039, 0.6118, 0.6118],\n",
       "          [0.6510, 0.6588, 0.6745,  ..., 0.6196, 0.6157, 0.6157],\n",
       "          ...,\n",
       "          [0.7020, 0.7020, 0.7059,  ..., 0.6980, 0.6980, 0.6980],\n",
       "          [0.6941, 0.6902, 0.6941,  ..., 0.6510, 0.6510, 0.6510],\n",
       "          [0.6980, 0.6941, 0.6941,  ..., 0.6627, 0.6667, 0.6667]]]),\n",
       " {'boxes': tensor([[135., 522., 245., 600.]]), 'labels': tensor([0])})"
      ]
     },
     "execution_count": 94,
     "metadata": {},
     "output_type": "execute_result"
    }
   ],
   "source": [
    "dataset[0]"
   ]
  },
  {
   "cell_type": "code",
   "execution_count": 92,
   "metadata": {},
   "outputs": [],
   "source": [
    "from torchvision import transforms\n",
    "from torch.utils.data import DataLoader\n",
    "transform = transforms.Compose([\n",
    "    transforms.Resize((224, 224)),\n",
    "    transforms.ToTensor(),\n",
    "])"
   ]
  },
  {
   "cell_type": "code",
   "execution_count": 97,
   "metadata": {},
   "outputs": [],
   "source": [
    "dataloader = DataLoader(dataset, batch_size=4, shuffle=True, num_workers=4)\n",
    "\n",
    "# Example: Iterate over small batch of data to verify that the dataset is working as expected.\n",
    "\n",
    "for i, (images, targets) in enumerate(dataloader):\n",
    "    print(f\"Batch {i}\")\n",
    "    print(f\"Image batch shape: {images.shape}\")\n",
    "    print(f\"Target batch shape: {targets['boxes'].shape}\")\n",
    "    break"
   ]
  },
  {
   "cell_type": "code",
   "execution_count": null,
   "metadata": {},
   "outputs": [],
   "source": []
  }
 ],
 "metadata": {
  "kernelspec": {
   "display_name": "rocket_launch",
   "language": "python",
   "name": "python3"
  },
  "language_info": {
   "codemirror_mode": {
    "name": "ipython",
    "version": 3
   },
   "file_extension": ".py",
   "mimetype": "text/x-python",
   "name": "python",
   "nbconvert_exporter": "python",
   "pygments_lexer": "ipython3",
   "version": "3.7.16"
  }
 },
 "nbformat": 4,
 "nbformat_minor": 2
}
